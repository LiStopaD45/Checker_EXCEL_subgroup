{
  "cells": [
    {
      "cell_type": "code",
      "execution_count": 15,
      "id": "f8ad24c5-004b-46b2-88de-c443735f65a8",
      "metadata": {
        "colab": {
          "base_uri": "https://localhost:8080/"
        },
        "id": "f8ad24c5-004b-46b2-88de-c443735f65a8",
        "outputId": "0dda50e6-aeb5-49a7-b1e0-46d7b14c4fed"
      },
      "outputs": [
        {
          "output_type": "stream",
          "name": "stdout",
          "text": [
            "Requirement already satisfied: pandas in /usr/local/lib/python3.11/dist-packages (2.2.2)\n",
            "Requirement already satisfied: xlsxwriter in /usr/local/lib/python3.11/dist-packages (3.2.5)\n",
            "Requirement already satisfied: openpyxl in /usr/local/lib/python3.11/dist-packages (3.1.5)\n",
            "Requirement already satisfied: faker in /usr/local/lib/python3.11/dist-packages (37.4.0)\n",
            "Requirement already satisfied: numpy>=1.23.2 in /usr/local/lib/python3.11/dist-packages (from pandas) (2.0.2)\n",
            "Requirement already satisfied: python-dateutil>=2.8.2 in /usr/local/lib/python3.11/dist-packages (from pandas) (2.9.0.post0)\n",
            "Requirement already satisfied: pytz>=2020.1 in /usr/local/lib/python3.11/dist-packages (from pandas) (2025.2)\n",
            "Requirement already satisfied: tzdata>=2022.7 in /usr/local/lib/python3.11/dist-packages (from pandas) (2025.2)\n",
            "Requirement already satisfied: et-xmlfile in /usr/local/lib/python3.11/dist-packages (from openpyxl) (2.0.0)\n",
            "Requirement already satisfied: six>=1.5 in /usr/local/lib/python3.11/dist-packages (from python-dateutil>=2.8.2->pandas) (1.17.0)\n"
          ]
        }
      ],
      "source": [
        "!pip install pandas xlsxwriter openpyxl faker"
      ]
    },
    {
      "cell_type": "code",
      "execution_count": 16,
      "id": "aab99297-91e3-4a91-b4f0-44bbeb0824ad",
      "metadata": {
        "id": "aab99297-91e3-4a91-b4f0-44bbeb0824ad"
      },
      "outputs": [],
      "source": [
        "import pandas as pd\n",
        "from openpyxl import load_workbook\n",
        "from openpyxl.styles import PatternFill, Border, Side, Alignment, Protection, Font"
      ]
    },
    {
      "cell_type": "code",
      "execution_count": 17,
      "id": "0fef0cdb-a921-43e8-8cd2-3df644bd0c7e",
      "metadata": {
        "colab": {
          "base_uri": "https://localhost:8080/",
          "height": 223
        },
        "id": "0fef0cdb-a921-43e8-8cd2-3df644bd0c7e",
        "outputId": "ea79b829-2a11-4cf4-a465-68207847c9d8"
      },
      "outputs": [
        {
          "output_type": "stream",
          "name": "stdout",
          "text": [
            "Первые 5 строк исходного файлика:***\n"
          ]
        },
        {
          "output_type": "display_data",
          "data": {
            "text/plain": [
              "  group subgroup\n",
              "0     X        Y\n",
              "1     1        1\n",
              "2     1        1\n",
              "3     1        2\n",
              "4     1        3"
            ],
            "text/html": [
              "\n",
              "  <div id=\"df-353d24c2-6748-47ae-b8d3-4eb97e99a05d\" class=\"colab-df-container\">\n",
              "    <div>\n",
              "<style scoped>\n",
              "    .dataframe tbody tr th:only-of-type {\n",
              "        vertical-align: middle;\n",
              "    }\n",
              "\n",
              "    .dataframe tbody tr th {\n",
              "        vertical-align: top;\n",
              "    }\n",
              "\n",
              "    .dataframe thead th {\n",
              "        text-align: right;\n",
              "    }\n",
              "</style>\n",
              "<table border=\"1\" class=\"dataframe\">\n",
              "  <thead>\n",
              "    <tr style=\"text-align: right;\">\n",
              "      <th></th>\n",
              "      <th>group</th>\n",
              "      <th>subgroup</th>\n",
              "    </tr>\n",
              "  </thead>\n",
              "  <tbody>\n",
              "    <tr>\n",
              "      <th>0</th>\n",
              "      <td>X</td>\n",
              "      <td>Y</td>\n",
              "    </tr>\n",
              "    <tr>\n",
              "      <th>1</th>\n",
              "      <td>1</td>\n",
              "      <td>1</td>\n",
              "    </tr>\n",
              "    <tr>\n",
              "      <th>2</th>\n",
              "      <td>1</td>\n",
              "      <td>1</td>\n",
              "    </tr>\n",
              "    <tr>\n",
              "      <th>3</th>\n",
              "      <td>1</td>\n",
              "      <td>2</td>\n",
              "    </tr>\n",
              "    <tr>\n",
              "      <th>4</th>\n",
              "      <td>1</td>\n",
              "      <td>3</td>\n",
              "    </tr>\n",
              "  </tbody>\n",
              "</table>\n",
              "</div>\n",
              "    <div class=\"colab-df-buttons\">\n",
              "\n",
              "  <div class=\"colab-df-container\">\n",
              "    <button class=\"colab-df-convert\" onclick=\"convertToInteractive('df-353d24c2-6748-47ae-b8d3-4eb97e99a05d')\"\n",
              "            title=\"Convert this dataframe to an interactive table.\"\n",
              "            style=\"display:none;\">\n",
              "\n",
              "  <svg xmlns=\"http://www.w3.org/2000/svg\" height=\"24px\" viewBox=\"0 -960 960 960\">\n",
              "    <path d=\"M120-120v-720h720v720H120Zm60-500h600v-160H180v160Zm220 220h160v-160H400v160Zm0 220h160v-160H400v160ZM180-400h160v-160H180v160Zm440 0h160v-160H620v160ZM180-180h160v-160H180v160Zm440 0h160v-160H620v160Z\"/>\n",
              "  </svg>\n",
              "    </button>\n",
              "\n",
              "  <style>\n",
              "    .colab-df-container {\n",
              "      display:flex;\n",
              "      gap: 12px;\n",
              "    }\n",
              "\n",
              "    .colab-df-convert {\n",
              "      background-color: #E8F0FE;\n",
              "      border: none;\n",
              "      border-radius: 50%;\n",
              "      cursor: pointer;\n",
              "      display: none;\n",
              "      fill: #1967D2;\n",
              "      height: 32px;\n",
              "      padding: 0 0 0 0;\n",
              "      width: 32px;\n",
              "    }\n",
              "\n",
              "    .colab-df-convert:hover {\n",
              "      background-color: #E2EBFA;\n",
              "      box-shadow: 0px 1px 2px rgba(60, 64, 67, 0.3), 0px 1px 3px 1px rgba(60, 64, 67, 0.15);\n",
              "      fill: #174EA6;\n",
              "    }\n",
              "\n",
              "    .colab-df-buttons div {\n",
              "      margin-bottom: 4px;\n",
              "    }\n",
              "\n",
              "    [theme=dark] .colab-df-convert {\n",
              "      background-color: #3B4455;\n",
              "      fill: #D2E3FC;\n",
              "    }\n",
              "\n",
              "    [theme=dark] .colab-df-convert:hover {\n",
              "      background-color: #434B5C;\n",
              "      box-shadow: 0px 1px 3px 1px rgba(0, 0, 0, 0.15);\n",
              "      filter: drop-shadow(0px 1px 2px rgba(0, 0, 0, 0.3));\n",
              "      fill: #FFFFFF;\n",
              "    }\n",
              "  </style>\n",
              "\n",
              "    <script>\n",
              "      const buttonEl =\n",
              "        document.querySelector('#df-353d24c2-6748-47ae-b8d3-4eb97e99a05d button.colab-df-convert');\n",
              "      buttonEl.style.display =\n",
              "        google.colab.kernel.accessAllowed ? 'block' : 'none';\n",
              "\n",
              "      async function convertToInteractive(key) {\n",
              "        const element = document.querySelector('#df-353d24c2-6748-47ae-b8d3-4eb97e99a05d');\n",
              "        const dataTable =\n",
              "          await google.colab.kernel.invokeFunction('convertToInteractive',\n",
              "                                                    [key], {});\n",
              "        if (!dataTable) return;\n",
              "\n",
              "        const docLinkHtml = 'Like what you see? Visit the ' +\n",
              "          '<a target=\"_blank\" href=https://colab.research.google.com/notebooks/data_table.ipynb>data table notebook</a>'\n",
              "          + ' to learn more about interactive tables.';\n",
              "        element.innerHTML = '';\n",
              "        dataTable['output_type'] = 'display_data';\n",
              "        await google.colab.output.renderOutput(dataTable, element);\n",
              "        const docLink = document.createElement('div');\n",
              "        docLink.innerHTML = docLinkHtml;\n",
              "        element.appendChild(docLink);\n",
              "      }\n",
              "    </script>\n",
              "  </div>\n",
              "\n",
              "\n",
              "    <div id=\"df-783680c2-c71c-468d-ae5b-9d548270536f\">\n",
              "      <button class=\"colab-df-quickchart\" onclick=\"quickchart('df-783680c2-c71c-468d-ae5b-9d548270536f')\"\n",
              "                title=\"Suggest charts\"\n",
              "                style=\"display:none;\">\n",
              "\n",
              "<svg xmlns=\"http://www.w3.org/2000/svg\" height=\"24px\"viewBox=\"0 0 24 24\"\n",
              "     width=\"24px\">\n",
              "    <g>\n",
              "        <path d=\"M19 3H5c-1.1 0-2 .9-2 2v14c0 1.1.9 2 2 2h14c1.1 0 2-.9 2-2V5c0-1.1-.9-2-2-2zM9 17H7v-7h2v7zm4 0h-2V7h2v10zm4 0h-2v-4h2v4z\"/>\n",
              "    </g>\n",
              "</svg>\n",
              "      </button>\n",
              "\n",
              "<style>\n",
              "  .colab-df-quickchart {\n",
              "      --bg-color: #E8F0FE;\n",
              "      --fill-color: #1967D2;\n",
              "      --hover-bg-color: #E2EBFA;\n",
              "      --hover-fill-color: #174EA6;\n",
              "      --disabled-fill-color: #AAA;\n",
              "      --disabled-bg-color: #DDD;\n",
              "  }\n",
              "\n",
              "  [theme=dark] .colab-df-quickchart {\n",
              "      --bg-color: #3B4455;\n",
              "      --fill-color: #D2E3FC;\n",
              "      --hover-bg-color: #434B5C;\n",
              "      --hover-fill-color: #FFFFFF;\n",
              "      --disabled-bg-color: #3B4455;\n",
              "      --disabled-fill-color: #666;\n",
              "  }\n",
              "\n",
              "  .colab-df-quickchart {\n",
              "    background-color: var(--bg-color);\n",
              "    border: none;\n",
              "    border-radius: 50%;\n",
              "    cursor: pointer;\n",
              "    display: none;\n",
              "    fill: var(--fill-color);\n",
              "    height: 32px;\n",
              "    padding: 0;\n",
              "    width: 32px;\n",
              "  }\n",
              "\n",
              "  .colab-df-quickchart:hover {\n",
              "    background-color: var(--hover-bg-color);\n",
              "    box-shadow: 0 1px 2px rgba(60, 64, 67, 0.3), 0 1px 3px 1px rgba(60, 64, 67, 0.15);\n",
              "    fill: var(--button-hover-fill-color);\n",
              "  }\n",
              "\n",
              "  .colab-df-quickchart-complete:disabled,\n",
              "  .colab-df-quickchart-complete:disabled:hover {\n",
              "    background-color: var(--disabled-bg-color);\n",
              "    fill: var(--disabled-fill-color);\n",
              "    box-shadow: none;\n",
              "  }\n",
              "\n",
              "  .colab-df-spinner {\n",
              "    border: 2px solid var(--fill-color);\n",
              "    border-color: transparent;\n",
              "    border-bottom-color: var(--fill-color);\n",
              "    animation:\n",
              "      spin 1s steps(1) infinite;\n",
              "  }\n",
              "\n",
              "  @keyframes spin {\n",
              "    0% {\n",
              "      border-color: transparent;\n",
              "      border-bottom-color: var(--fill-color);\n",
              "      border-left-color: var(--fill-color);\n",
              "    }\n",
              "    20% {\n",
              "      border-color: transparent;\n",
              "      border-left-color: var(--fill-color);\n",
              "      border-top-color: var(--fill-color);\n",
              "    }\n",
              "    30% {\n",
              "      border-color: transparent;\n",
              "      border-left-color: var(--fill-color);\n",
              "      border-top-color: var(--fill-color);\n",
              "      border-right-color: var(--fill-color);\n",
              "    }\n",
              "    40% {\n",
              "      border-color: transparent;\n",
              "      border-right-color: var(--fill-color);\n",
              "      border-top-color: var(--fill-color);\n",
              "    }\n",
              "    60% {\n",
              "      border-color: transparent;\n",
              "      border-right-color: var(--fill-color);\n",
              "    }\n",
              "    80% {\n",
              "      border-color: transparent;\n",
              "      border-right-color: var(--fill-color);\n",
              "      border-bottom-color: var(--fill-color);\n",
              "    }\n",
              "    90% {\n",
              "      border-color: transparent;\n",
              "      border-bottom-color: var(--fill-color);\n",
              "    }\n",
              "  }\n",
              "</style>\n",
              "\n",
              "      <script>\n",
              "        async function quickchart(key) {\n",
              "          const quickchartButtonEl =\n",
              "            document.querySelector('#' + key + ' button');\n",
              "          quickchartButtonEl.disabled = true;  // To prevent multiple clicks.\n",
              "          quickchartButtonEl.classList.add('colab-df-spinner');\n",
              "          try {\n",
              "            const charts = await google.colab.kernel.invokeFunction(\n",
              "                'suggestCharts', [key], {});\n",
              "          } catch (error) {\n",
              "            console.error('Error during call to suggestCharts:', error);\n",
              "          }\n",
              "          quickchartButtonEl.classList.remove('colab-df-spinner');\n",
              "          quickchartButtonEl.classList.add('colab-df-quickchart-complete');\n",
              "        }\n",
              "        (() => {\n",
              "          let quickchartButtonEl =\n",
              "            document.querySelector('#df-783680c2-c71c-468d-ae5b-9d548270536f button');\n",
              "          quickchartButtonEl.style.display =\n",
              "            google.colab.kernel.accessAllowed ? 'block' : 'none';\n",
              "        })();\n",
              "      </script>\n",
              "    </div>\n",
              "    </div>\n",
              "  </div>\n"
            ],
            "application/vnd.google.colaboratory.intrinsic+json": {
              "type": "dataframe",
              "summary": "{\n  \"name\": \"display(df\",\n  \"rows\": 5,\n  \"fields\": [\n    {\n      \"column\": \"group\",\n      \"properties\": {\n        \"dtype\": \"category\",\n        \"num_unique_values\": 2,\n        \"samples\": [\n          1,\n          \"X\"\n        ],\n        \"semantic_type\": \"\",\n        \"description\": \"\"\n      }\n    },\n    {\n      \"column\": \"subgroup\",\n      \"properties\": {\n        \"dtype\": \"string\",\n        \"num_unique_values\": 4,\n        \"samples\": [\n          1,\n          3\n        ],\n        \"semantic_type\": \"\",\n        \"description\": \"\"\n      }\n    }\n  ]\n}"
            }
          },
          "metadata": {}
        }
      ],
      "source": [
        "# устанавливаем входной и выходной файлы\n",
        "input_file = \"Входной_файлик.xlsx\"\n",
        "output_file=\"output.xlsx\"\n",
        "# Без заголовков!!!!!\n",
        "# читаем\n",
        "df = pd.read_excel(input_file, header=None, names=['group', 'subgroup'])\n",
        "\n",
        "print(\"Первые 5 строк исходного файлика:***\")\n",
        "display(df.head())"
      ]
    },
    {
      "cell_type": "code",
      "execution_count": null,
      "metadata": {
        "id": "vQt_MiNDGPH_"
      },
      "outputs": [],
      "source": [
        "# TEST\n",
        "from collections import defaultdict\n",
        "def iterate_excel_column(filename, sheet_name, column_letter_group, column_letter_subgroup):\n",
        "    try:\n",
        "        workbook = load_workbook(filename)\n",
        "        sheet = workbook[sheet_name]\n",
        "        #sheet = workbook.active\n",
        "        column_index_group = ord(column_letter_group.upper()) - ord('A') + 1  # Преобразуем букву в индекс\n",
        "        column_index_subgroup = ord(column_letter_subgroup.upper()) - ord('A') + 1  # Преобразуем букву в индекс\n",
        "        #print(column_index_group)\n",
        "        #print(column_index_subgroup)\n",
        "        # create dict\n",
        "        # посчитаем количество групп и создадим словарь, где количество ключей = количеству групп. Значения будут = значениям подгрупп\n",
        "        groups_number={}\n",
        "        tecNumberGroup = 0\n",
        "        for row in sheet.iter_rows(min_row=2, values_only=True):\n",
        "            cell_value_group=row[column_index_group - 1]\n",
        "            if tecNumberGroup<cell_value_group:\n",
        "                tecNumberGroup=cell_value_group\n",
        "                groups_number[cell_value_group]=[]\n",
        "        print(f\"Количество групп = {len(groups_number)}\")\n",
        "        #print(f\" Dict {groups_number}\")\n",
        "\n",
        "########################################\n",
        "\n",
        "        # считываем подгруппы\n",
        "        stoppper=0\n",
        "        for row in sheet.iter_rows(min_row=2, values_only=True): #начинаем со второй строки\n",
        "            cell_value_group=row[column_index_group - 1]\n",
        "            cell_value_subgroup=row[column_index_subgroup - 1]\n",
        "            if stoppper<cell_value_group:\n",
        "                stoppper=cell_value_group\n",
        "            #print(f\"Stopper = {stoppper} ***** cell_value_group = {cell_value_group} ***** cell_value_subgroup = {cell_value_subgroup}\")\n",
        "            # начинаем собирать наш словарик подгруппами\n",
        "            if cell_value_subgroup is None: cell_value_subgroup=0\n",
        "            groups_number[stoppper].append(cell_value_subgroup)\n",
        "        print(f\"Dict ALL == {groups_number}\")\n",
        "        #print(f\"stopper == {stoppper}\")\n",
        "        #print(f\" len dir ===--- {len(groups_number)}\")\n",
        "        #print(f\"list in dict {len(groups_number[3])}\")\n",
        "        #print(f\"max in 3 key {max(groups_number[2])}\")\n",
        "\n",
        "\n",
        "        for numberKEY in range (1, len(groups_number)+1):\n",
        "          groups_number[numberKEY]\n",
        "          '''\n",
        "            # вычисляем количество уникальных значений в каждой группе\n",
        "            non_empty_values = [item for item in groups_number[numberKEY] if item]\n",
        "            print(f\"non_empty_values = {non_empty_values}\")\n",
        "            MaxVal=max(non_empty_values)\n",
        "            sortedLIST=sorted(groups_number[numberKEY])\n",
        "            print(f\"sortedLIST ----- {sortedLIST}\")\n",
        "            print(f\"numberKEY == {numberKEY}\")\n",
        "            print(f\"non_empty_values *** {non_empty_values}\")\n",
        "            print(f\"Max in list {numberKEY} ==== {MaxVal}\")\n",
        "\n",
        "            for current in range(1, len(non_empty_values)+1):\n",
        "                print(f\"current == {current}\")\n",
        "\n",
        "                # max val\n",
        "                print(f\"Value ---*** {non_empty_values[current-1]}\")\n",
        "                if (non_empty_values[current-1])>MaxVal:\n",
        "                    MaxVal=non_empty_values[current-1]\n",
        "                    print(f\"Max val in numberKEY = {numberKEY} max = {MaxVal}\" )\n",
        "            '''\n",
        "\n",
        "\n",
        "    except FileNotFoundError:\n",
        "        print(f\"Ошибка: Файл '{filename}' не найден.\")\n",
        "    except KeyError:\n",
        "        print(f\"Ошибка: Лист '{sheet_name}' не найден.\")\n",
        "    except Exception as e:\n",
        "        print(f\"Произошла ошибка: {e}\")\n",
        "\n",
        "# Пример использования\n",
        "filename = input_file\n",
        "sheet_name = \"Sheet\"\n",
        "column_letter_group = \"A\"\n",
        "column_letter_subgroup = \"B\"\n",
        "#column_letter = \"A\"\n",
        "iterate_excel_column(filename, sheet_name, column_letter_group, column_letter_subgroup)"
      ],
      "id": "vQt_MiNDGPH_"
    },
    {
      "cell_type": "code",
      "source": [],
      "metadata": {
        "id": "oe_-L77vXZOY"
      },
      "id": "oe_-L77vXZOY",
      "execution_count": null,
      "outputs": []
    },
    {
      "cell_type": "code",
      "source": [],
      "metadata": {
        "id": "98cz9rvjXZSD"
      },
      "id": "98cz9rvjXZSD",
      "execution_count": null,
      "outputs": []
    },
    {
      "cell_type": "code",
      "source": [],
      "metadata": {
        "id": "yymJUK2zXZVb"
      },
      "id": "yymJUK2zXZVb",
      "execution_count": null,
      "outputs": []
    },
    {
      "cell_type": "code",
      "source": [
        "my_list = [1, 2, 2, 3, 3, 3, 4, None, None]\n",
        "unique_count = len(set(my_list))\n",
        "print(unique_count)  # Выведет: 5 (1, 2, 3, 4, None)"
      ],
      "metadata": {
        "colab": {
          "base_uri": "https://localhost:8080/"
        },
        "id": "roFYrgWKUsmF",
        "outputId": "09c8ac7b-7a87-4f27-8a58-0f97b345313d"
      },
      "id": "roFYrgWKUsmF",
      "execution_count": 50,
      "outputs": [
        {
          "output_type": "stream",
          "name": "stdout",
          "text": [
            "5\n"
          ]
        }
      ]
    },
    {
      "cell_type": "code",
      "source": [
        "original_list = [1, 2, 2, 3, 3, 3, 0, 0, 4, 4, 5]\n",
        "unique_list = list(dict.fromkeys(original_list))\n",
        "print(unique_list)\n",
        "# Вывод: [1, 2, 3, 'apple', 'banana', None]"
      ],
      "metadata": {
        "colab": {
          "base_uri": "https://localhost:8080/"
        },
        "id": "VUo8ZiDDVyRK",
        "outputId": "19f0c931-6252-4981-a7ce-2aa8043fb8ee"
      },
      "id": "VUo8ZiDDVyRK",
      "execution_count": 49,
      "outputs": [
        {
          "output_type": "stream",
          "name": "stdout",
          "text": [
            "[1, 2, 3, 0, 4, 5]\n"
          ]
        }
      ]
    },
    {
      "cell_type": "code",
      "execution_count": null,
      "id": "e9e24361-0b66-46ab-ade2-169428971757",
      "metadata": {
        "id": "e9e24361-0b66-46ab-ade2-169428971757"
      },
      "outputs": [],
      "source": [
        "for i in range(1, 6):\n",
        "    list_name = f\"список_{i}\"\n",
        "    print(list_name)"
      ]
    },
    {
      "cell_type": "code",
      "execution_count": null,
      "id": "e08d1517-6518-4b2c-81f9-bd9c07767e41",
      "metadata": {
        "id": "e08d1517-6518-4b2c-81f9-bd9c07767e41"
      },
      "outputs": [],
      "source": [
        "my_dict = {\n",
        "    \"key1\": [1, 2, 3],\n",
        "    \"key2\": [\"apple\", \"banana\", \"cherry\"],\n",
        "    \"key3\": [1.1, 2.2, 3.3]\n",
        "}\n",
        "\n",
        "print(my_dict)\n",
        "# {'key1': [1, 2, 3], 'key2': ['apple', 'banana', 'cherry'], 'key3': [1.1, 2.2, 3.3]}\n",
        "\n",
        "print(my_dict[\"key2\"])\n",
        "# ['apple', 'banana', 'cherry']\n",
        "index=\"key2\"\n",
        "my_dict[index].append(\"orange\")\n",
        "print(my_dict[\"key2\"])\n",
        "# ['apple', 'banana', 'cherry', 'orange']\n",
        "print(my_dict[\"key2\"][1])"
      ]
    },
    {
      "cell_type": "code",
      "execution_count": null,
      "id": "720f0aae-0539-43bb-812e-cc13fb0ac52c",
      "metadata": {
        "id": "720f0aae-0539-43bb-812e-cc13fb0ac52c"
      },
      "outputs": [],
      "source": [
        "from collections import defaultdict\n",
        "def iterate_excel_column(filename, sheet_name, column_letter_group, column_letter_subgroup):\n",
        "#def iterate_excel_column(filename, column_letter_group, column_letter_subgroup):\n",
        "\n",
        "    try:\n",
        "        workbook = load_workbook(filename)\n",
        "        sheet = workbook[sheet_name]\n",
        "        #sheet = workbook.active\n",
        "        column_index_group = ord(column_letter_group.upper()) - ord('A') + 1  # Преобразуем букву в индекс\n",
        "        column_index_subgroup = ord(column_letter_subgroup.upper()) - ord('A') + 1  # Преобразуем букву в индекс\n",
        "\n",
        "        # create dict\n",
        "        # посчитаем количество групп\n",
        "        groups_number={}\n",
        "        tecNumberGroup = 0\n",
        "\n",
        "        for row in sheet.iter_rows(min_row=2, values_only=True):\n",
        "            cell_value_group=row[column_index_group - 1]\n",
        "\n",
        "            if tecNumberGroup<cell_value_group:\n",
        "                tecNumberGroup=cell_value_group\n",
        "                groups_number[cell_value_group]=[]\n",
        "        print(\"Количество групп = {len(groups_number)}\")\n",
        "        print(f\" Dict {groups_number}\")\n",
        "\n",
        "########################################\n",
        "        #for number in groups_number:\n",
        "        #    for i in range(1, 6):\n",
        "        #        groups_number[number].append(i)\n",
        "        #print(f\" Dict222w*** {groups_number}\")\n",
        "\n",
        "        stoppper=0\n",
        "\n",
        "        for row in sheet.iter_rows(min_row=2, values_only=True): #начинаем со второй строки\n",
        "            cell_value_group=row[column_index_group - 1]\n",
        "            cell_value_subgroup=row[column_index_subgroup - 1]\n",
        "            if stoppper<cell_value_group:\n",
        "                stoppper=cell_value_group\n",
        "            print(f\"Stopper = {stoppper} ***** cell_value_group = {cell_value_group} ***** cell_value_subgroup = {cell_value_subgroup}\")\n",
        "            groups_number[stoppper].append(cell_value_subgroup)\n",
        "        print(f\"Dict ALL == {groups_number}\")\n",
        "        print(f\"stopper == {stoppper}\")\n",
        "        print(f\" len dir ===--- {len(groups_number)}\")\n",
        "        print(f\"list in dict {len(groups_number[3])}\")\n",
        "        print(f\"max in 3 key {max(groups_number[2])}\")\n",
        "\n",
        "        for numberKEY in range (1, len(groups_number)+1):\n",
        "\n",
        "            non_empty_values = [item for item in groups_number[numberKEY] if item]\n",
        "            MaxVal=max(non_empty_values)\n",
        "            sortedLIST=sorted(groups_number[numberKEY])\n",
        "            print(f\"sortedLIST ----- {sortedLIST}\")\n",
        "            print(f\"numberKEY == {numberKEY}\")\n",
        "            print(f\"non_empty_values *** {non_empty_values}\")\n",
        "            print(f\"Max in list {numberKEY} ==== {max(non_empty_values)}\")\n",
        "\n",
        "            for current in range(1, len(non_empty_values)+1):\n",
        "                print(f\"current == {current}\")\n",
        "\n",
        "                # max val\n",
        "                print(f\"Value ---*** {non_empty_values[current-1]}\")\n",
        "                if (non_empty_values[current-1])>MaxVal:\n",
        "                    MaxVal=non_empty_values[current-1]\n",
        "                    print(f\"Max val in numberKEY = {numberKEY} max = {MaxVal}\" )\n",
        "\n",
        "\n",
        "    except FileNotFoundError:\n",
        "        print(f\"Ошибка: Файл '{filename}' не найден.\")\n",
        "    except KeyError:\n",
        "        print(f\"Ошибка: Лист '{sheet_name}' не найден.\")\n",
        "    except Exception as e:\n",
        "        print(f\"Произошла ошибка: {e}\")\n",
        "\n",
        "# Пример использования\n",
        "filename = input_file\n",
        "sheet_name = \"Sheet\"\n",
        "column_letter_group = \"A\"\n",
        "column_letter_subgroup = \"B\"\n",
        "#column_letter = \"A\"\n",
        "iterate_excel_column(filename, sheet_name, column_letter_group, column_letter_subgroup)"
      ]
    },
    {
      "cell_type": "code",
      "execution_count": null,
      "id": "9e969290-36af-47c7-bdc9-bd7901862cf2",
      "metadata": {
        "id": "9e969290-36af-47c7-bdc9-bd7901862cf2"
      },
      "outputs": [],
      "source": []
    },
    {
      "cell_type": "code",
      "execution_count": null,
      "id": "8504088d-0c12-4e75-87af-62c0cee0f7a9",
      "metadata": {
        "id": "8504088d-0c12-4e75-87af-62c0cee0f7a9",
        "outputId": "f7866620-2aef-4eae-8b11-691e0359227d"
      },
      "outputs": [
        {
          "ename": "NameError",
          "evalue": "name 'sheet' is not defined",
          "output_type": "error",
          "traceback": [
            "\u001b[0;31m---------------------------------------------------------------------------\u001b[0m",
            "\u001b[0;31mNameError\u001b[0m                                 Traceback (most recent call last)",
            "Cell \u001b[0;32mIn[64], line 3\u001b[0m\n\u001b[1;32m      1\u001b[0m dictValues \u001b[38;5;241m=\u001b[39m{}\n\u001b[1;32m      2\u001b[0m \u001b[38;5;66;03m# Итерация по строкам\u001b[39;00m\n\u001b[0;32m----> 3\u001b[0m \u001b[38;5;28mprint\u001b[39m(\u001b[43msheet\u001b[49m\u001b[38;5;241m.\u001b[39miter_rows())\n\u001b[1;32m      4\u001b[0m \u001b[38;5;28;01mfor\u001b[39;00m row \u001b[38;5;129;01min\u001b[39;00m sheet\u001b[38;5;241m.\u001b[39miter_rows():\n\u001b[1;32m      8\u001b[0m     \u001b[38;5;28;01mfor\u001b[39;00m cell \u001b[38;5;129;01min\u001b[39;00m row:\n",
            "\u001b[0;31mNameError\u001b[0m: name 'sheet' is not defined"
          ]
        }
      ],
      "source": [
        "dictValues ={}\n",
        "# Итерация по строкам\n",
        "print(sheet.iter_rows())\n",
        "for row in sheet.iter_rows():\n",
        "\n",
        "\n",
        "\n",
        "    for cell in row:\n",
        "        print(cell.value, end=\" \")\n",
        "    print()"
      ]
    },
    {
      "cell_type": "code",
      "execution_count": null,
      "id": "c1d6dd4c-4994-4669-8b45-fba8aab03eb3",
      "metadata": {
        "id": "c1d6dd4c-4994-4669-8b45-fba8aab03eb3"
      },
      "outputs": [],
      "source": []
    },
    {
      "cell_type": "code",
      "execution_count": null,
      "id": "9f03386d-9e7d-4abf-8bf7-a9190b7b5624",
      "metadata": {
        "id": "9f03386d-9e7d-4abf-8bf7-a9190b7b5624"
      },
      "outputs": [],
      "source": [
        "# Пример использования\n",
        "filename = input_file\n",
        "sheet_name = workbook.active#\"Лист1\"\n",
        "column_letter_group = \"A\"\n",
        "column_letter_subgroup = \"B\"\n",
        "#column_letter = \"A\"\n",
        "iterate_excel_column(filename, column_letter_group, column_letter_subgroup)"
      ]
    },
    {
      "cell_type": "code",
      "execution_count": null,
      "id": "2b2912d5-6492-4b74-81a7-bc80dd6dd529",
      "metadata": {
        "id": "2b2912d5-6492-4b74-81a7-bc80dd6dd529"
      },
      "outputs": [],
      "source": [
        "# Загрузка рабочей книги\n",
        "workbook = load_workbook(input_file)\n",
        "\n",
        "# Выбор активного листа\n",
        "sheet = workbook.active\n"
      ]
    },
    {
      "cell_type": "code",
      "execution_count": null,
      "id": "b6089b0c-7a79-427a-9766-f25968b80d0b",
      "metadata": {
        "id": "b6089b0c-7a79-427a-9766-f25968b80d0b"
      },
      "outputs": [],
      "source": [
        "dictValues ={}\n",
        "        for row in sheet.iter_rows(min_row=2, values_only=True): #начинаем со второй строки\n",
        "\n",
        "            cell_value_group=row[column_index_group - 1]\n",
        "            cell_value_subgroup=row[column_index_subgroup - 1]\n",
        "\n",
        "            if dictValues[cell_value_group] is not dictValues:\n",
        "                dictValues[cell_value_group] = cell_value_subgroup\n",
        "            else:\n",
        "                dictValues[cell_value_group].append(cell_value_subgroup)\n",
        "\n",
        "            if cell_value is not None:\n",
        "                print(f\"**** {cell_value_group} ***** {cell_value_subgroup}\")\n",
        "                #print(cell_value)"
      ]
    },
    {
      "cell_type": "code",
      "execution_count": null,
      "id": "eaab7509-42eb-406e-872d-f2360c6308ed",
      "metadata": {
        "id": "eaab7509-42eb-406e-872d-f2360c6308ed"
      },
      "outputs": [],
      "source": []
    }
  ],
  "metadata": {
    "kernelspec": {
      "display_name": "Python 3 (ipykernel)",
      "language": "python",
      "name": "python3"
    },
    "language_info": {
      "codemirror_mode": {
        "name": "ipython",
        "version": 3
      },
      "file_extension": ".py",
      "mimetype": "text/x-python",
      "name": "python",
      "nbconvert_exporter": "python",
      "pygments_lexer": "ipython3",
      "version": "3.10.16"
    },
    "colab": {
      "provenance": []
    }
  },
  "nbformat": 4,
  "nbformat_minor": 5
}