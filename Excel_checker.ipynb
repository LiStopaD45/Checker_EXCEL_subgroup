{
  "cells": [
    {
      "cell_type": "code",
      "execution_count": null,
      "id": "f8ad24c5-004b-46b2-88de-c443735f65a8",
      "metadata": {
        "id": "f8ad24c5-004b-46b2-88de-c443735f65a8"
      },
      "outputs": [],
      "source": [
        "!pip install pandas xlsxwriter openpyxl faker"
      ]
    },
    {
      "cell_type": "code",
      "execution_count": 16,
      "id": "aab99297-91e3-4a91-b4f0-44bbeb0824ad",
      "metadata": {
        "id": "aab99297-91e3-4a91-b4f0-44bbeb0824ad"
      },
      "outputs": [],
      "source": [
        "import pandas as pd\n",
        "from openpyxl import load_workbook, Workbook\n",
        "from openpyxl.styles import PatternFill, Border, Side, Alignment, Protection, Font"
      ]
    },
    {
      "cell_type": "code",
      "execution_count": null,
      "id": "0fef0cdb-a921-43e8-8cd2-3df644bd0c7e",
      "metadata": {
        "id": "0fef0cdb-a921-43e8-8cd2-3df644bd0c7e"
      },
      "outputs": [],
      "source": [
        "# устанавливаем входной и выходной файлы\n",
        "#output_file=\"output.xlsx\"\n",
        "# Без заголовков!!!!!\n",
        "# читаем\n",
        "#df = pd.read_excel(input_file, header=None, names=['group', 'subgroup'])\n",
        "#print(\"Первые 5 строк исходного файлика:***\")\n",
        "#display(df.head())"
      ]
    },
    {
      "cell_type": "code",
      "source": [
        "# Задаем переменные для работы основных функций\n",
        "input_file = \"Входной_файлик.xlsx\"\n",
        "groups_number={}\n",
        "### Функция для разборки и корректировки\n",
        "filename = input_file\n",
        "sheet_name = \"Sheet\"\n",
        "column_letter_group = \"A\"\n",
        "column_letter_subgroup = \"B\"\n",
        "### Функция для проверки и подсветки изменений\n",
        "column=\"C\",\n",
        "start_row=2"
      ],
      "metadata": {
        "id": "_6ZZ0kLVfRSt"
      },
      "id": "_6ZZ0kLVfRSt",
      "execution_count": 17,
      "outputs": []
    },
    {
      "cell_type": "code",
      "source": [
        "def write_and_highlight_diff(filename, sheet_name, data_dict, column=\"C\", start_row=2):\n",
        "    \"\"\"\n",
        "    Записывает значения словаря в столбец и подсвечивает различия с столбцом B\n",
        "\n",
        "    :param filename: путь к файлу Excel\n",
        "    :param sheet_name: название листа\n",
        "    :param data_dict: словарь со списками значений\n",
        "    :param column: целевой столбец (по умолчанию 'C')\n",
        "    :param start_row: начальная строка (по умолчанию 2)\n",
        "    \"\"\"\n",
        "    # Загружаем или создаем файл\n",
        "    try:\n",
        "        wb = load_workbook(filename)\n",
        "        if sheet_name not in wb.sheetnames:\n",
        "            wb.create_sheet(sheet_name)\n",
        "    except FileNotFoundError:\n",
        "        wb = Workbook()\n",
        "        wb.active.title = sheet_name\n",
        "\n",
        "    sheet = wb[sheet_name]\n",
        "    current_row = start_row\n",
        "\n",
        "    # 1. Записываем данные в столбец C\n",
        "    for values_list in data_dict.values():\n",
        "        for value in values_list:\n",
        "            sheet[f\"{column}{current_row}\"] = value\n",
        "            current_row += 1\n",
        "\n",
        "    # 2. Проверяем различия между столбцами B и C\n",
        "    # Создаем стиль для заливки (желтый цвет)\n",
        "    yellow_fill = PatternFill(\n",
        "        start_color=\"FFFF00\",\n",
        "        end_color=\"FFFF00\",\n",
        "        fill_type=\"solid\"\n",
        "    )\n",
        "\n",
        "    for row in range(start_row, current_row):\n",
        "        cell_b = sheet[f\"B{row}\"]\n",
        "        cell_c = sheet[f\"C{row}\"]\n",
        "\n",
        "        # Сравниваем значения с учетом разных типов\n",
        "        val_b = cell_b.value\n",
        "        val_c = cell_c.value\n",
        "\n",
        "        # Проверяем различия (с обработкой None, NaN и разных типов)\n",
        "        if isinstance(val_b, float) and isinstance(val_c, float):\n",
        "            # Для float используем точное сравнение с учетом NaN\n",
        "            import math\n",
        "            if math.isnan(val_b) and math.isnan(val_c):\n",
        "                continue  # Оба NaN - считаем равными\n",
        "            if math.isnan(val_b) or math.isnan(val_c):\n",
        "                is_diff = True\n",
        "            else:\n",
        "                is_diff = abs(val_b - val_c) > 1e-9\n",
        "        else:\n",
        "            # Для остальных типов используем обычное сравнение\n",
        "            is_diff = val_b != val_c\n",
        "\n",
        "        # Закрашиваем если значения разные\n",
        "        if is_diff:\n",
        "            cell_c.fill = yellow_fill\n",
        "\n",
        "    # Сохраняем изменения\n",
        "    wb.save(filename)\n",
        "    print(f\"Данные записаны в столбец {column}, строки {start_row}-{current_row-1}\")\n",
        "    print(f\"Проверка различий завершена. Ячейки с отличиями закрашены.\")"
      ],
      "metadata": {
        "id": "oe_-L77vXZOY"
      },
      "id": "oe_-L77vXZOY",
      "execution_count": 18,
      "outputs": []
    },
    {
      "cell_type": "code",
      "execution_count": 30,
      "metadata": {
        "id": "vQt_MiNDGPH_"
      },
      "outputs": [],
      "source": [
        "from collections import defaultdict\n",
        "def iterate_excel_column(filename, sheet_name, column_letter_group, column_letter_subgroup):\n",
        "    try:\n",
        "        workbook = load_workbook(filename)\n",
        "        sheet = workbook[sheet_name]\n",
        "        #sheet = workbook.active\n",
        "        column_index_group = ord(column_letter_group.upper()) - ord('A') + 1  # Преобразуем букву в индекс\n",
        "        column_index_subgroup = ord(column_letter_subgroup.upper()) - ord('A') + 1  # Преобразуем букву в индекс\n",
        "        #print(column_index_group)\n",
        "        #print(column_index_subgroup)\n",
        "        # посчитаем количество групп и создадим словарь, где количество ключей = количеству групп. Значения будут = значениям подгрупп\n",
        "        #groups_number={}\n",
        "        tecNumberGroup = 0\n",
        "        for row in sheet.iter_rows(min_row=2, values_only=True):\n",
        "            cell_value_group=row[column_index_group - 1]\n",
        "            if tecNumberGroup<cell_value_group:\n",
        "                tecNumberGroup=cell_value_group\n",
        "                groups_number[cell_value_group]=[]\n",
        "        print(f\"Количество групп = {len(groups_number)}\")\n",
        "        #print(f\" Dict {groups_number}\")\n",
        "\n",
        "        # считываем подгруппы\n",
        "        stoppper=0\n",
        "        for row in sheet.iter_rows(min_row=2, values_only=True): #начинаем со второй строки\n",
        "            cell_value_group=row[column_index_group - 1]\n",
        "            cell_value_subgroup=row[column_index_subgroup - 1]\n",
        "            if stoppper<cell_value_group:\n",
        "                stoppper=cell_value_group\n",
        "            #print(f\"Stopper = {stoppper} ***** cell_value_group = {cell_value_group} ***** cell_value_subgroup = {cell_value_subgroup}\")\n",
        "            # начинаем собирать наш словарик подгруппами\n",
        "            if cell_value_subgroup is None: cell_value_subgroup=0\n",
        "            groups_number[stoppper].append(cell_value_subgroup)\n",
        "        #print(f\"Dict ALL == {groups_number}\")\n",
        "        #print(f\"stopper == {stoppper}\")\n",
        "        #print(f\" len dir ===--- {len(groups_number)}\")\n",
        "        #print(f\"list in dict {len(groups_number[3])}\")\n",
        "        #print(f\"max in 3 key {max(groups_number[2])}\")\n",
        "\n",
        "        for numberKEY in range (1, len(groups_number)+1):\n",
        "          maxLenListSUB = len(groups_number[numberKEY])\n",
        "          print(f\"Исходный для группы № [{numberKEY}] список подгрупп \\n{groups_number[numberKEY]}\")\n",
        "          # Перебиваем значения подгрупп от 1 до максимального значения\n",
        "          groups_number[numberKEY] = list(range(1, len(groups_number[numberKEY])+1))\n",
        "          print(f\"Скорректированный для группы № [{numberKEY}] список подгрупп \\n{groups_number[numberKEY]}\")\n",
        "        # Запускаем функцию-сравнилку\n",
        "        write_and_highlight_diff(\n",
        "        filename=input_file,\n",
        "        sheet_name=\"Sheet\",\n",
        "        data_dict=groups_number,\n",
        "        column=\"C\",\n",
        "        start_row=2\n",
        "    )\n",
        "\n",
        "    except FileNotFoundError:\n",
        "        print(f\"Ошибка: Файл '{filename}' не найден.\")\n",
        "    except KeyError:\n",
        "        print(f\"Ошибка: Лист '{sheet_name}' не найден.\")\n",
        "    except Exception as e:\n",
        "        print(f\"Произошла ошибка: {e}\")"
      ],
      "id": "vQt_MiNDGPH_"
    },
    {
      "cell_type": "code",
      "source": [
        "#!!!!!!!!!!! ***** Run def for work *********** !!!!!!!!!!!!\n",
        "iterate_excel_column(filename, sheet_name, column_letter_group, column_letter_subgroup)"
      ],
      "metadata": {
        "colab": {
          "base_uri": "https://localhost:8080/"
        },
        "id": "gtrHV8mOd4v8",
        "outputId": "1ad5eab9-6fe3-44a5-946b-8473f7469230"
      },
      "id": "gtrHV8mOd4v8",
      "execution_count": 31,
      "outputs": [
        {
          "output_type": "stream",
          "name": "stdout",
          "text": [
            "Количество групп = 3\n",
            "Исходный для группы № [1] список подгрупп \n",
            "[1, 1, 2, 3, 3, 3, 0, 0, 4, 4, 5, 6, 7, 8, 9, 11, 12, 13, 0, 2, 3, 2, 2, 5, 5, 1, 0]\n",
            "Скорректированный для группы № [1] список подгрупп \n",
            "[1, 2, 3, 4, 5, 6, 7, 8, 9, 10, 11, 12, 13, 14, 15, 16, 17, 18, 19, 20, 21, 22, 23, 24, 25, 26, 27]\n",
            "Исходный для группы № [2] список подгрупп \n",
            "[1, 1, 2, 2, 0, 0, 0, 0, 0, 0, 3, 4, 5, 6, 9, 8, 10, 11, 12, 13, 15, 8, 8, 15, 15]\n",
            "Скорректированный для группы № [2] список подгрупп \n",
            "[1, 2, 3, 4, 5, 6, 7, 8, 9, 10, 11, 12, 13, 14, 15, 16, 17, 18, 19, 20, 21, 22, 23, 24, 25]\n",
            "Исходный для группы № [3] список подгрупп \n",
            "[1, 2, 2, 3, 4, 0, 0, 5, 6, 7]\n",
            "Скорректированный для группы № [3] список подгрупп \n",
            "[1, 2, 3, 4, 5, 6, 7, 8, 9, 10]\n",
            "Данные записаны в столбец C, строки 2-63\n",
            "Проверка различий завершена. Ячейки с отличиями закрашены.\n"
          ]
        }
      ]
    }
  ],
  "metadata": {
    "kernelspec": {
      "display_name": "Python 3 (ipykernel)",
      "language": "python",
      "name": "python3"
    },
    "language_info": {
      "codemirror_mode": {
        "name": "ipython",
        "version": 3
      },
      "file_extension": ".py",
      "mimetype": "text/x-python",
      "name": "python",
      "nbconvert_exporter": "python",
      "pygments_lexer": "ipython3",
      "version": "3.10.16"
    },
    "colab": {
      "provenance": []
    }
  },
  "nbformat": 4,
  "nbformat_minor": 5
}